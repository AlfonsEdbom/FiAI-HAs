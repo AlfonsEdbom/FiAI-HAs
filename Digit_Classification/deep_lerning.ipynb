{
 "cells": [
  {
   "cell_type": "markdown",
   "metadata": {
    "id": "ePLSo3ldhbMO"
   },
   "source": [
    "# Assignment: Classification of Handwritten Digits\n",
    "\n",
    "In this assignment, we will use the $k$-nearest neighbour classifier and a dense neural network (multilayer perceptron) to classify handwritten digits from the MNIST dataset (http://yann.lecun.com/exdb/mnist/).\n",
    "\n"
   ]
  },
  {
   "cell_type": "markdown",
   "metadata": {
    "id": "ZBze6CRBsFs0"
   },
   "source": [
    "## Working together\n",
    "\n",
    "The assignment should be solved in **groups of two**. Copying code from other students, the Internet, or other sources is not allowed (the provided helper code excluded). If you want to work alone, you must have a compelling reason (that convinces us) for doing so."
   ]
  },
  {
   "cell_type": "markdown",
   "metadata": {
    "id": "4ZjTiT1_scVa"
   },
   "source": [
    "## Task\n",
    "\n",
    "You are given a dataset of images of handwritten digits (0 through 9) and the correct answers to train your machine learning models on.\n",
    "\n",
    "You need to divide the images into a training data set, (optionally) a validation data set, and a test set. You may also use cross-validation instead of a validation data set.\n",
    "\n",
    "After training, and after selecting the proper hyper-parameters (the number of neighbors, $k$, the number of layers, the number of neurons, *etc.*), classify the images in the test set to see how accurately your models classify unknown images. **Note**: You should *never* use, look at, or classify the test set until you have selected your final model. You are *not* allowed to continue training or do any model alterations after you have evaluated your models on the test data set.\n",
    "\n",
    "**In order to pass the assignment your solution must correctly classify at least 94 % of the *validation data set images* with the $k$-NN model and at least 97.7 % of the *validation data set images* with the neural network model.**"
   ]
  },
  {
   "cell_type": "markdown",
   "metadata": {
    "id": "EMtJ5wZvB0Ya"
   },
   "source": [
    "## What to hand in\n",
    "\n",
    "You should hand in a complete and well-written report (in `pdf` format) together with your Jupyter notebook electronically in Labres. Only one member per group hands in and marks the other member. **Note**: you cannot change group members after the first hand-in, so make sure you do it correct the first time.\n",
    "\n",
    "The report may be brief (try to keep it under 5 pages) but it is important that you fulfill the following requirements:\n",
    "\n",
    " * The report must have a title page including names and user names (@cs) for all group members, course name, and assignment name.\n",
    " * The report should be as short as possible and as long as necessary. If your report exceeds five pages (incl. the title page), chances are that you are doing something wrong.\n",
    " * Describe how your solution works on a level that does not lose interesting details. Divide the report into two parts (one for $k$-NN, the other for the neural network), and split each part into *implementation*, *results*, and *discussion* subsections.\n",
    "   - Most important is that you describe how your solution works, and why you solved it in a particular way. Clearly state the ranges for your hyper-parameters, and explain why you chose those.\n",
    "   - Explain, and give pseudo-code for your hyper-parameter search. Explain any decisions/choices you've made.\n",
    "   - For the neural network: Plot how the loss evolve during training of your best model, and interpret the plot. The loss is available in the `MLPClassifier` after training.\n",
    "   - Describe how your work went and which problems and issues you faced when developing the program.\n",
    "   - Describe how you divided the work between you.\n",
    "   - Use clear, well written English language.\n",
    "   - You must not include your source code in the report, supply it in the Jupyter notebook.\n",
    "   - **Report your validation scores in the report.**\n",
    "\n",
    "The source code should align to the following:\n",
    "\n",
    " * Comment the code in a reasonable way. Follow the [Docstring conventions](https://peps.python.org/pep-0257/).\n",
    " * Structure your code in a suitable way, such that it is easy to follow what is going on.\n",
    " * Name classes, variables, methods, modules, *etc.*, such that the names clearly describe their function and follow the specifications given above.\n",
    " * The code you hand in should not contain sections that are not used, or unnecessary. Make sure that you understand every part of the code that you hand in.\n",
    " * **Important:** hand in a notebook that contains your execution results, i.e., execute the notebook from scratch (**Kernel** - **Re-start and run all**) and save before you hand in."
   ]
  },
  {
   "cell_type": "markdown",
   "metadata": {
    "id": "DJlFR2GELAxa"
   },
   "source": [
    "## Getting started\n",
    "\n",
    "You can follow [these instructions](https://jupyter.org/install) to install Jupyter Notebook. Then, proceed as follows:\n",
    "\n",
    " - Download this notebook.\n",
    " - Start Jupyter Notebook\n",
    " - Open your saved copy of this notebook\n",
    "\n",
    "Alternatively, you can also use [Google Colab](https://colab.research.google.com/) to work on the assignment \"in the cloud\"."
   ]
  },
  {
   "cell_type": "markdown",
   "metadata": {
    "id": "OBJ704gG_GHP"
   },
   "source": [
    "**Note**: If you take the course Artificial Intelligence in Cognitive Science (5DV201), then set the following variable to `False`:\n",
    "\n"
   ]
  },
  {
   "cell_type": "code",
   "execution_count": 1,
   "metadata": {
    "id": "ua6te8J-_AVQ"
   },
   "outputs": [],
   "source": [
    "course_5DV124 = True"
   ]
  },
  {
   "cell_type": "code",
   "execution_count": 2,
   "metadata": {},
   "outputs": [],
   "source": [
    "%%capture\n",
    "# Install the dependencies (in case you use Google Colab, these should be available by default, though)\n",
    "! pip install --user -Iv numpy matplotlib sklearn==0.24.1"
   ]
  },
  {
   "cell_type": "code",
   "execution_count": 2,
   "metadata": {
    "id": "092ZQBfJzALh"
   },
   "outputs": [],
   "source": [
    "import numpy as np\n",
    "np.random.seed(42)  # Set the random seed for reproducible results"
   ]
  },
  {
   "cell_type": "code",
   "execution_count": 3,
   "metadata": {
    "id": "CPqG1Q30qsEB"
   },
   "outputs": [
    {
     "name": "stdout",
     "output_type": "stream",
     "text": [
      "**Author**: Yann LeCun, Corinna Cortes, Christopher J.C. Burges  \n",
      "**Source**: [MNIST Website](http://yann.lecun.com/exdb/mnist/) - Date unknown  \n",
      "**Please cite**:  \n",
      "\n",
      "The MNIST database of handwritten digits with 784 features, raw data available at: http://yann.lecun.com/exdb/mnist/. It can be split in a training set of the first 60,000 examples, and a test set of 10,000 examples  \n",
      "\n",
      "It is a subset of a larger set available from NIST. The digits have been size-normalized and centered in a fixed-size image. It is a good database for people who want to try learning techniques and pattern recognition methods on real-world data while spending minimal efforts on preprocessing and formatting. The original black and white (bilevel) images from NIST were size normalized to fit in a 20x20 pixel box while preserving their aspect ratio. The resulting images contain grey levels as a result of the anti-aliasing technique used by the normalization algorithm. the images were centered in a 28x28 image by computing the center of mass of the pixels, and translating the image so as to position this point at the center of the 28x28 field.  \n",
      "\n",
      "With some classification methods (particularly template-based methods, such as SVM and K-nearest neighbors), the error rate improves when the digits are centered by bounding box rather than center of mass. If you do this kind of pre-processing, you should report it in your publications. The MNIST database was constructed from NIST's NIST originally designated SD-3 as their training set and SD-1 as their test set. However, SD-3 is much cleaner and easier to recognize than SD-1. The reason for this can be found on the fact that SD-3 was collected among Census Bureau employees, while SD-1 was collected among high-school students. Drawing sensible conclusions from learning experiments requires that the result be independent of the choice of training set and test among the complete set of samples. Therefore it was necessary to build a new database by mixing NIST's datasets.  \n",
      "\n",
      "The MNIST training set is composed of 30,000 patterns from SD-3 and 30,000 patterns from SD-1. Our test set was composed of 5,000 patterns from SD-3 and 5,000 patterns from SD-1. The 60,000 pattern training set contained examples from approximately 250 writers. We made sure that the sets of writers of the training set and test set were disjoint. SD-1 contains 58,527 digit images written by 500 different writers. In contrast to SD-3, where blocks of data from each writer appeared in sequence, the data in SD-1 is scrambled. Writer identities for SD-1 is available and we used this information to unscramble the writers. We then split SD-1 in two: characters written by the first 250 writers went into our new training set. The remaining 250 writers were placed in our test set. Thus we had two sets with nearly 30,000 examples each. The new training set was completed with enough examples from SD-3, starting at pattern # 0, to make a full set of 60,000 training patterns. Similarly, the new test set was completed with SD-3 examples starting at pattern # 35,000 to make a full set with 60,000 test patterns. Only a subset of 10,000 test images (5,000 from SD-1 and 5,000 from SD-3) is available on this site. The full 60,000 sample training set is available.\n",
      "\n",
      "Downloaded from openml.org.\n"
     ]
    }
   ],
   "source": [
    "# Load the MNIST dataset (this may take a while)\n",
    "\n",
    "import sklearn.datasets\n",
    "\n",
    "data = sklearn.datasets.fetch_openml(\"mnist_784\")\n",
    "\n",
    "print(data.DESCR)"
   ]
  },
  {
   "cell_type": "code",
   "execution_count": 4,
   "metadata": {
    "id": "cgS9W1g4ztV9"
   },
   "outputs": [
    {
     "name": "stdout",
     "output_type": "stream",
     "text": [
      "Training set size X   : (52500, 784)\n",
      "Training set size y   : (52500,)\n",
      "Validation set size X : (8750, 784)\n",
      "Validation set size y : (8750,)\n",
      "Test set size X       : (8750, 784)\n",
      "Test set size y       : (8750,)\n",
      "Output classes        : {'3', '8', '6', '9', '0', '2', '5', '4', '7', '1'}\n"
     ]
    }
   ],
   "source": [
    "# Split the data into training, (validation), and test set\n",
    "\n",
    "from sklearn.model_selection import train_test_split\n",
    "\n",
    "\n",
    "Xtrain, Xtest, ytrain, ytest = train_test_split(data.data, data.target, test_size=0.25, random_state=1)\n",
    "\n",
    "# You may alternatively skip this / have a combined Xtrain and Xval here and instead use cross-validation below\n",
    "Xtest, Xval, ytest, yval = train_test_split(Xtest, ytest, test_size=0.5, random_state=1)\n",
    "Xtrain =  np.asarray(Xtrain)\n",
    "Xtest =  np.asarray(Xtest)\n",
    "Xval =  np.asarray(Xval)\n",
    "ytrain =  np.asarray(ytrain)\n",
    "ytest =  np.asarray(ytest)\n",
    "yval =  np.asarray(yval)\n",
    "\n",
    "\n",
    "# Note! Do not touch the test data until the very end!\n",
    "\n",
    "print(f\"Training set size X   : {Xtrain.shape}\")\n",
    "print(f\"Training set size y   : {ytrain.shape}\")\n",
    "print(f\"Validation set size X : {Xval.shape}\")\n",
    "print(f\"Validation set size y : {yval.shape}\")\n",
    "print(f\"Test set size X       : {Xtest.shape}\")\n",
    "print(f\"Test set size y       : {ytest.shape}\")\n",
    "print(f\"Output classes        : {set(ytrain)}\")"
   ]
  },
  {
   "cell_type": "code",
   "execution_count": 5,
   "metadata": {
    "id": "2st_Xv3w12Tb"
   },
   "outputs": [
    {
     "data": {
      "image/png": "[encoded data removed]",
      "text/plain": [
       "<Figure size 1200x775 with 8 Axes>"
      ]
     },
     "metadata": {},
     "output_type": "display_data"
    }
   ],
   "source": [
    "# Plot a few images\n",
    "\n",
    "import matplotlib.pyplot as plt\n",
    "%matplotlib inline\n",
    "\n",
    "fig = plt.figure(figsize=(12, 7.75))\n",
    "fig.subplots_adjust(top=0.995,\n",
    "                    bottom=0.115,\n",
    "                    left=0.005,\n",
    "                    right=0.995,\n",
    "                    wspace=0.15,\n",
    "                    hspace=0.005)\n",
    "\n",
    "plot_array = (2, 4)\n",
    "ax = [[None] * plot_array[1]] * plot_array[0]\n",
    "it = 0\n",
    "for i in range(plot_array[0]):\n",
    "    for j in range(plot_array[1]):\n",
    "        ax[i][j] = plt.subplot2grid((2, 4), (i, j), rowspan=1, colspan=1)\n",
    "        ax[i][j].imshow(Xtrain[it, :].reshape((28, 28)))\n",
    "        ax[i][j].set_title(f\"Label: {ytrain[it]}\", fontsize=24)\n",
    "        it += 1"
   ]
  },
  {
   "cell_type": "code",
   "execution_count": 6,
   "metadata": {
    "id": "Xd0OxcEW5mq7"
   },
   "outputs": [
    {
     "name": "stdout",
     "output_type": "stream",
     "text": [
      "Before preprocessing, test data       : min = 0.0, max = 255.0, mean = 33.4, std = 78.7\n",
      "Before preprocessing, validation data : min = 0.0, max = 255.0, mean = 33.2, std = 78.5\n",
      "Before preprocessing, test data       : min = 0.0, max = 255.0, mean = 33.3, std = 78.6\n",
      "After preprocessing, test data        : min = -1.0, max = 1.0, mean = -0.7, std = 0.6\n",
      "After preprocessing, validation data  : min = -1.0, max = 31.0, mean = -0.7, std = 0.6\n",
      "After preprocessing, test data        : min = -1.0, max = 225.0, mean = -0.7, std = 0.6\n"
     ]
    }
   ],
   "source": [
    "# Preprocess the data\n",
    "\n",
    "import sklearn.preprocessing\n",
    "\n",
    "print(f\"Before preprocessing, test data       : \"\n",
    "      f\"min = {np.min(Xtrain):.1f}, \"\n",
    "      f\"max = {np.max(Xtrain):.1f}, \"\n",
    "      f\"mean = {np.mean(Xtrain):.1f}, \"\n",
    "      f\"std = {np.std(Xtrain):.1f}\")\n",
    "print(f\"Before preprocessing, validation data : \"\n",
    "      f\"min = {np.min(Xval):.1f}, \"\n",
    "      f\"max = {np.max(Xval):.1f}, \"\n",
    "      f\"mean = {np.mean(Xval):.1f}, \"\n",
    "      f\"std = {np.std(Xval):.1f}\")\n",
    "print(f\"Before preprocessing, test data       : \"\n",
    "      f\"min = {np.min(Xtest):.1f}, \"\n",
    "      f\"max = {np.max(Xtest):.1f}, \"\n",
    "      f\"mean = {np.mean(Xtest):.1f}, \"\n",
    "      f\"std = {np.std(Xtest):.1f}\")\n",
    "\n",
    "scaler = sklearn.preprocessing.MinMaxScaler(feature_range=(-1, 1))\n",
    "scaler.fit(Xtrain)  # Every statistic we compute is found on the training data!\n",
    "\n",
    "Xtrain = scaler.transform(Xtrain)\n",
    "Xval = scaler.transform(Xval)\n",
    "# TODO: If you do cross-validation, you must redo this on the training data in\n",
    "#       each cross-validation loop, and then transform the validation data as\n",
    "#       well!\n",
    "Xtest = scaler.transform(Xtest)\n",
    "\n",
    "print(f\"After preprocessing, test data        : \"\n",
    "      f\"min = {np.min(Xtrain):.1f}, \"\n",
    "      f\"max = {np.max(Xtrain):.1f}, \"\n",
    "      f\"mean = {np.mean(Xtrain):.1f}, \"\n",
    "      f\"std = {np.std(Xtrain):.1f}\")\n",
    "print(f\"After preprocessing, validation data  : \"\n",
    "      f\"min = {np.min(Xval):.1f}, \"\n",
    "      f\"max = {np.max(Xval):.1f}, \"\n",
    "      f\"mean = {np.mean(Xval):.1f}, \"\n",
    "      f\"std = {np.std(Xval):.1f}\")\n",
    "print(f\"After preprocessing, test data        : \"\n",
    "      f\"min = {np.min(Xtest):.1f}, \"\n",
    "      f\"max = {np.max(Xtest):.1f}, \"\n",
    "      f\"mean = {np.mean(Xtest):.1f}, \"\n",
    "      f\"std = {np.std(Xtest):.1f}\")\n",
    "\n",
    "# TODO: Try to apply other preprocessing, e.g. the\n",
    "#       sklearn.preprocessing.StandardScaler(), and see if the results improve."
   ]
  },
  {
   "cell_type": "markdown",
   "metadata": {
    "id": "ESiZjUNjxy7b"
   },
   "source": [
    "### The neural network model\n",
    "\n",
    "We will use the neural networks (multilayer perceptrons) implemented in scikit-learn. You need to find the optimal number of layers, the number of neurons in each of the layers, and any other hyper-parameters that may be relevant."
   ]
  },
  {
   "cell_type": "code",
   "execution_count": 7,
   "metadata": {
    "id": "bC0_DAq4kHkc"
   },
   "outputs": [
    {
     "name": "stdout",
     "output_type": "stream",
     "text": [
      "Hidden layer sizes: (500, 500, 500, 500), \n",
      "    validation accuracy: 0.872, accumulated time 54.25071406364441\n",
      "Hidden layer sizes: (500, 500, 500, 500, 500), \n",
      "    validation accuracy: 0.864, accumulated time 115.42197632789612\n",
      "Hidden layer sizes: (500, 500, 500, 500, 500, 500), \n",
      "    validation accuracy: 0.872, accumulated time 254.63504433631897\n",
      "Hidden layer sizes: (500, 500, 500, 500, 500, 500, 500), \n",
      "    validation accuracy: 0.888, accumulated time 401.27208399772644\n",
      "Hidden layer sizes: (500, 500, 500, 500, 500, 500, 500, 500), \n",
      "    validation accuracy: 0.872, accumulated time 586.7451982498169\n",
      "Hidden layer sizes: (500, 500, 500, 500, 500, 500, 500, 500, 500), \n",
      "    validation accuracy: 0.884, accumulated time 820.0900838375092\n",
      "{}\n",
      "Grid search done!\n"
     ]
    }
   ],
   "source": [
    "# Create the NN classifier\n",
    "\n",
    "import sklearn.neural_network\n",
    "import itertools\n",
    "import time \n",
    "\n",
    "start_time = time.time()\n",
    "# TODO: Perform grid search to find the number of layers, the number of neurons\n",
    "#       in each layer, etc.\n",
    "\n",
    "# Set the maximum and minimum number of neurons for each layer.\n",
    "hidden_layer_sizes_min = [200, 100]\n",
    "hidden_layer_sizes_max = [300, 200]\n",
    "# TODO: Try different numbers of layers and different numbers of neurons.\n",
    "\n",
    "# TODO: You may have to test other hyper-parameters than just the number of\n",
    "#       layers and the number of artificial neurons in each layer. It might be\n",
    "#       worth varying the learning rate as well, for instance.\n",
    "\n",
    "errs_val = {}\n",
    "num_neurons_1 = 100\n",
    "num_neurons_2 = 100\n",
    "# num_neurons_3 = 100\n",
    "hidden_layer_sizes = (num_neurons_1, num_neurons_2)  # , num_neurons_3)\n",
    "\n",
    "# different number of hidden layers (1-10)\n",
    "    # different number of neurons in each hidden layer (100-300)\n",
    "    # different learning rates\n",
    "\n",
    "min_max_neurons = [i for i in range(100, 550, 100)]\n",
    "max_hidden_layers = 4\n",
    "learning_rates = [0.1, 0.01, 0.001, 0.0001]\n",
    "activator_f = ['identity', 'logistic', 'tanh', 'relu']\n",
    "#optimizer = [\"adam\", 'lbfgs', 'gd']\n",
    "batch_sizes = [100, 300, 500]\n",
    "tols = [0.01, 0.001, 0.0001, 0.00001]\n",
    "\n",
    "#for num_hidden_layers in range(min_\n",
    "# max_hidden_layers[0], min_max_hidden_layers[1]):\n",
    "\n",
    "for i in range(max_hidden_layers, 10):\n",
    "    layers = tuple(500 for _ in range(i))\n",
    "    model = sklearn.neural_network.MLPClassifier(\n",
    "            hidden_layer_sizes=layers,\n",
    "            activation='relu',\n",
    "            alpha=0.0001,\n",
    "            batch_size=200,\n",
    "            learning_rate_init=0.001,\n",
    "            max_iter=200,\n",
    "            tol=0.0001)\n",
    "\n",
    "    model.fit(Xtrain[:500, :], ytrain[:500])\n",
    "\n",
    "    err = model.score(Xval[:250, :], yval[:250])\n",
    "\n",
    "    print(f\"\"\"Hidden layer sizes: {layers}, \n",
    "    validation accuracy: {err}, accumulated time {time.time() - start_time}\"\"\" )\n",
    "\n",
    "            #errs_val[permut][lrate][func] = err\n",
    "\n",
    "\n",
    "\"\"\"\n",
    "for i in range(max_hidden_layers+1):\n",
    "    permuts = itertools.product(min_max_neurons, repeat=i)\n",
    "    for permut in permuts:\n",
    "        if permut:\n",
    "            for lrate in learning_rates:\n",
    "                for func in activator_f:\n",
    "\n",
    "\n",
    "                    model = sklearn.neural_network.MLPClassifier(\n",
    "                        hidden_layer_sizes=permut,\n",
    "                        activation='relu',\n",
    "                        alpha=0.0001,\n",
    "                        batch_size='auto',\n",
    "                        learning_rate_init=lrate,\n",
    "                        max_iter=200)\n",
    "\n",
    "                    model.fit(Xtrain[:5000, :], ytrain[:5000])\n",
    "\n",
    "                    err = model.score(Xval[:2500, :], yval[:2500])\n",
    "\n",
    "                    print(f\"Hidden layer sizes: {permut}, learning rate: {lrate}, activator function: {func}, \"\n",
    "                        f\"validation accuracy: {err}, accumulated time {time.time() - start_time}\" )\n",
    "\n",
    "                    errs_val[hidden_layer_sizes] = err\n",
    "\"\"\"\n",
    "\n",
    "        # TODO: The computations may take a long time here as well. Play with\n",
    "#       different amounts of data to see what's feasible on your\n",
    "#       computer. Get it to work on a small amount of data first, and\n",
    "#       then run for a longer time with more data. More data here will\n",
    "#       improve the results. Using all data may take a long time, but\n",
    "#       will give good results.\n",
    "print(errs_val)\n",
    "print(\"Grid search done!\")"
   ]
  },
  {
   "cell_type": "code",
   "execution_count": null,
   "metadata": {
    "id": "29OqeZmELELJ"
   },
   "outputs": [],
   "source": [
    "# Train the final model using the best layer sizes\n",
    "\n",
    "hidden_layer_sizes_best = max(errs_val, key=errs_val.get, default='')\n",
    "print(f\"The best value was {errs_val[hidden_layer_sizes_best]}, \"\n",
    "      f\"found using layer sizes: {hidden_layer_sizes_best}.\")\n",
    "\n",
    "model_ann = sklearn.neural_network.MLPClassifier(\n",
    "    hidden_layer_sizes=hidden_layer_sizes_best,\n",
    "    alpha=0.0001,\n",
    "    batch_size='auto',\n",
    "    learning_rate_init=0.001,\n",
    "    max_iter=200,\n",
    ")\n",
    "\n",
    "model_ann.fit(Xtrain[:50000, :], ytrain[:50000])\n",
    "err = model_ann.score(Xval[:10000, :], yval[:10000])\n",
    "\n",
    "print(f\"Final validation accuracy: {err}\")"
   ]
  },
  {
   "cell_type": "markdown",
   "metadata": {
    "id": "_iqH_Kj24hDG"
   },
   "source": [
    "Once we have selected our final model, we can compute the test error on the final models as the last thing we do. Make sure to only do this at the very end, after you have selected the best models you can find."
   ]
  },
  {
   "cell_type": "code",
   "execution_count": null,
   "metadata": {
    "id": "vuQfK309lkf4"
   },
   "outputs": [],
   "source": [
    "# Evaluate the final model on all the data sets, including the test data. We\n",
    "# only evaluate the test data once, and as the last thing we do. If you train\n",
    "# another model after this, based on the performance on the test data, then your\n",
    "# test data is effectively a validation dataset, and you no longer have a test\n",
    "# dataset. (Or, if you keep your test data set, then your results are biased and\n",
    "# by that unreliable.)\n",
    "print(f\"k-NN model training data accuracy  : {model_knn.score(Xtrain, ytrain)}\")\n",
    "print(f\"k-NN model validation data accuracy: {model_knn.score(Xval, yval)}\")\n",
    "if False:  # Change this to True as the very last thing you do!\n",
    "    print(f\"k-NN model test data accuracy      : \"\n",
    "          f\"{model_knn.score(Xtest, ytest)}\")\n",
    "\n",
    "print(f\"ANN model training data accuracy   : {model_ann.score(Xtrain, ytrain)}\")\n",
    "print(f\"ANN model validation data accuracy : {model_ann.score(Xval, yval)}\")\n",
    "if False:  # Change this to True as the very last thing you do!\n",
    "    print(f\"ANN model test data accuracy       : \"\n",
    "          f\"{model_ann.score(Xtest, ytest)}\")"
   ]
  }
 ],
 "metadata": {
  "colab": {
   "collapsed_sections": [],
   "name": "assignment_classification.ipynb",
   "provenance": []
  },
  "kernelspec": {
   "display_name": "Python 3.9.2 64-bit",
   "language": "python",
   "name": "python3"
  },
  "language_info": {
   "codemirror_mode": {
    "name": "ipython",
    "version": 3
   },
   "file_extension": ".py",
   "mimetype": "text/x-python",
   "name": "python",
   "nbconvert_exporter": "python",
   "pygments_lexer": "ipython3",
   "version": "3.9.2"
  },
  "vscode": {
   "interpreter": {
    "hash": "31f2aee4e71d21fbe5cf8b01ff0e069b9275f58929596ceb00d14d90e3e16cd6"
   }
  }
 },
 "nbformat": 4,
 "nbformat_minor": 4
}
