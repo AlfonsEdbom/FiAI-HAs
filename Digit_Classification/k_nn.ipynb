{
 "cells": [
  {
   "cell_type": "markdown",
   "metadata": {
    "id": "ePLSo3ldhbMO"
   },
   "source": [
    "# Assignment: Classification of Handwritten Digits\n",
    "\n",
    "In this assignment, we will use the $k$-nearest neighbour classifier and a dense neural network (multilayer perceptron) to classify handwritten digits from the MNIST dataset (http://yann.lecun.com/exdb/mnist/).\n",
    "\n"
   ]
  },
  {
   "cell_type": "code",
   "execution_count": 1,
   "metadata": {
    "id": "ua6te8J-_AVQ"
   },
   "outputs": [],
   "source": [
    "course_5DV124 = True"
   ]
  },
  {
   "cell_type": "code",
   "execution_count": 2,
   "metadata": {
    "id": "092ZQBfJzALh"
   },
   "outputs": [],
   "source": [
    "import numpy as np\n",
    "np.random.seed(42)  # Set the random seed for reproducible results"
   ]
  },
  {
   "cell_type": "code",
   "execution_count": 3,
   "metadata": {
    "id": "CPqG1Q30qsEB"
   },
   "outputs": [
    {
     "name": "stdout",
     "output_type": "stream",
     "text": [
      "**Author**: Yann LeCun, Corinna Cortes, Christopher J.C. Burges  \n",
      "**Source**: [MNIST Website](http://yann.lecun.com/exdb/mnist/) - Date unknown  \n",
      "**Please cite**:  \n",
      "\n",
      "The MNIST database of handwritten digits with 784 features, raw data available at: http://yann.lecun.com/exdb/mnist/. It can be split in a training set of the first 60,000 examples, and a test set of 10,000 examples  \n",
      "\n",
      "It is a subset of a larger set available from NIST. The digits have been size-normalized and centered in a fixed-size image. It is a good database for people who want to try learning techniques and pattern recognition methods on real-world data while spending minimal efforts on preprocessing and formatting. The original black and white (bilevel) images from NIST were size normalized to fit in a 20x20 pixel box while preserving their aspect ratio. The resulting images contain grey levels as a result of the anti-aliasing technique used by the normalization algorithm. the images were centered in a 28x28 image by computing the center of mass of the pixels, and translating the image so as to position this point at the center of the 28x28 field.  \n",
      "\n",
      "With some classification methods (particularly template-based methods, such as SVM and K-nearest neighbors), the error rate improves when the digits are centered by bounding box rather than center of mass. If you do this kind of pre-processing, you should report it in your publications. The MNIST database was constructed from NIST's NIST originally designated SD-3 as their training set and SD-1 as their test set. However, SD-3 is much cleaner and easier to recognize than SD-1. The reason for this can be found on the fact that SD-3 was collected among Census Bureau employees, while SD-1 was collected among high-school students. Drawing sensible conclusions from learning experiments requires that the result be independent of the choice of training set and test among the complete set of samples. Therefore it was necessary to build a new database by mixing NIST's datasets.  \n",
      "\n",
      "The MNIST training set is composed of 30,000 patterns from SD-3 and 30,000 patterns from SD-1. Our test set was composed of 5,000 patterns from SD-3 and 5,000 patterns from SD-1. The 60,000 pattern training set contained examples from approximately 250 writers. We made sure that the sets of writers of the training set and test set were disjoint. SD-1 contains 58,527 digit images written by 500 different writers. In contrast to SD-3, where blocks of data from each writer appeared in sequence, the data in SD-1 is scrambled. Writer identities for SD-1 is available and we used this information to unscramble the writers. We then split SD-1 in two: characters written by the first 250 writers went into our new training set. The remaining 250 writers were placed in our test set. Thus we had two sets with nearly 30,000 examples each. The new training set was completed with enough examples from SD-3, starting at pattern # 0, to make a full set of 60,000 training patterns. Similarly, the new test set was completed with SD-3 examples starting at pattern # 35,000 to make a full set with 60,000 test patterns. Only a subset of 10,000 test images (5,000 from SD-1 and 5,000 from SD-3) is available on this site. The full 60,000 sample training set is available.\n",
      "\n",
      "Downloaded from openml.org.\n"
     ]
    }
   ],
   "source": [
    "# Load the MNIST dataset (this may take a while)\n",
    "\n",
    "import sklearn.datasets\n",
    "\n",
    "data = sklearn.datasets.fetch_openml(\"mnist_784\")\n",
    "\n",
    "print(data.DESCR)"
   ]
  },
  {
   "cell_type": "code",
   "execution_count": 4,
   "metadata": {
    "id": "cgS9W1g4ztV9"
   },
   "outputs": [
    {
     "name": "stdout",
     "output_type": "stream",
     "text": [
      "Training set size X   : (52500, 784)\n",
      "Training set size y   : (52500,)\n",
      "Validation set size X : (8750, 784)\n",
      "Validation set size y : (8750,)\n",
      "Test set size X       : (8750, 784)\n",
      "Test set size y       : (8750,)\n",
      "Output classes        : {'4', '9', '2', '7', '1', '3', '8', '6', '0', '5'}\n"
     ]
    }
   ],
   "source": [
    "# Split the data into training, (validation), and test set\n",
    "\n",
    "from sklearn.model_selection import train_test_split\n",
    "\n",
    "\n",
    "Xtrain, Xtest, ytrain, ytest = train_test_split(data.data, data.target, test_size=0.25, random_state=1)\n",
    "\n",
    "# You may alternatively skip this / have a combined Xtrain and Xval here and instead use cross-validation below\n",
    "Xtest, Xval, ytest, yval = train_test_split(Xtest, ytest, test_size=0.5, random_state=1)\n",
    "Xtrain =  np.asarray(Xtrain)\n",
    "Xtest =  np.asarray(Xtest)\n",
    "Xval =  np.asarray(Xval)\n",
    "ytrain =  np.asarray(ytrain)\n",
    "ytest =  np.asarray(ytest)\n",
    "yval =  np.asarray(yval)\n",
    "\n",
    "\n",
    "# Note! Do not touch the test data until the very end!\n",
    "\n",
    "print(f\"Training set size X   : {Xtrain.shape}\")\n",
    "print(f\"Training set size y   : {ytrain.shape}\")\n",
    "print(f\"Validation set size X : {Xval.shape}\")\n",
    "print(f\"Validation set size y : {yval.shape}\")\n",
    "print(f\"Test set size X       : {Xtest.shape}\")\n",
    "print(f\"Test set size y       : {ytest.shape}\")\n",
    "print(f\"Output classes        : {set(ytrain)}\")"
   ]
  },
  {
   "cell_type": "code",
   "execution_count": 5,
   "metadata": {
    "id": "2st_Xv3w12Tb"
   },
   "outputs": [
    {
     "data": {
      "image/png": "[encoded data removed]",
      "text/plain": [
       "<Figure size 864x558 with 8 Axes>"
      ]
     },
     "metadata": {
      "needs_background": "light"
     },
     "output_type": "display_data"
    }
   ],
   "source": [
    "# Plot a few images\n",
    "\n",
    "import matplotlib.pyplot as plt\n",
    "%matplotlib inline\n",
    "\n",
    "fig = plt.figure(figsize=(12, 7.75))\n",
    "fig.subplots_adjust(top=0.995,\n",
    "                    bottom=0.115,\n",
    "                    left=0.005,\n",
    "                    right=0.995,\n",
    "                    wspace=0.15,\n",
    "                    hspace=0.005)\n",
    "\n",
    "plot_array = (2, 4)\n",
    "ax = [[None] * plot_array[1]] * plot_array[0]\n",
    "it = 0\n",
    "for i in range(plot_array[0]):\n",
    "    for j in range(plot_array[1]):\n",
    "        ax[i][j] = plt.subplot2grid((2, 4), (i, j), rowspan=1, colspan=1)\n",
    "        ax[i][j].imshow(Xtrain[it, :].reshape((28, 28)))\n",
    "        ax[i][j].set_title(f\"Label: {ytrain[it]}\", fontsize=24)\n",
    "        it += 1"
   ]
  },
  {
   "cell_type": "code",
   "execution_count": 6,
   "metadata": {
    "id": "Xd0OxcEW5mq7"
   },
   "outputs": [
    {
     "name": "stdout",
     "output_type": "stream",
     "text": [
      "Before preprocessing, test data       : min = 0.0, max = 255.0, mean = 33.4, std = 78.7\n",
      "Before preprocessing, validation data : min = 0.0, max = 255.0, mean = 33.2, std = 78.5\n",
      "Before preprocessing, test data       : min = 0.0, max = 255.0, mean = 33.3, std = 78.6\n",
      "After preprocessing, test data        : min = -1.0, max = 1.0, mean = -0.7, std = 0.6\n",
      "After preprocessing, validation data  : min = -1.0, max = 31.0, mean = -0.7, std = 0.6\n",
      "After preprocessing, test data        : min = -1.0, max = 225.0, mean = -0.7, std = 0.6\n"
     ]
    }
   ],
   "source": [
    "# Preprocess the data\n",
    "\n",
    "import sklearn.preprocessing\n",
    "\n",
    "print(f\"Before preprocessing, test data       : \"\n",
    "      f\"min = {np.min(Xtrain):.1f}, \"\n",
    "      f\"max = {np.max(Xtrain):.1f}, \"\n",
    "      f\"mean = {np.mean(Xtrain):.1f}, \"\n",
    "      f\"std = {np.std(Xtrain):.1f}\")\n",
    "print(f\"Before preprocessing, validation data : \"\n",
    "      f\"min = {np.min(Xval):.1f}, \"\n",
    "      f\"max = {np.max(Xval):.1f}, \"\n",
    "      f\"mean = {np.mean(Xval):.1f}, \"\n",
    "      f\"std = {np.std(Xval):.1f}\")\n",
    "print(f\"Before preprocessing, test data       : \"\n",
    "      f\"min = {np.min(Xtest):.1f}, \"\n",
    "      f\"max = {np.max(Xtest):.1f}, \"\n",
    "      f\"mean = {np.mean(Xtest):.1f}, \"\n",
    "      f\"std = {np.std(Xtest):.1f}\")\n",
    "\n",
    "scaler = sklearn.preprocessing.MinMaxScaler(feature_range=(-1, 1))\n",
    "scaler.fit(Xtrain)  # Every statistic we compute is found on the training data!\n",
    "\n",
    "Xtrain = scaler.transform(Xtrain)\n",
    "Xval = scaler.transform(Xval)\n",
    "# TODO: If you do cross-validation, you must redo this on the training data in\n",
    "#       each cross-validation loop, and then transform the validation data as\n",
    "#       well!\n",
    "Xtest = scaler.transform(Xtest)\n",
    "\n",
    "print(f\"After preprocessing, test data        : \"\n",
    "      f\"min = {np.min(Xtrain):.1f}, \"\n",
    "      f\"max = {np.max(Xtrain):.1f}, \"\n",
    "      f\"mean = {np.mean(Xtrain):.1f}, \"\n",
    "      f\"std = {np.std(Xtrain):.1f}\")\n",
    "print(f\"After preprocessing, validation data  : \"\n",
    "      f\"min = {np.min(Xval):.1f}, \"\n",
    "      f\"max = {np.max(Xval):.1f}, \"\n",
    "      f\"mean = {np.mean(Xval):.1f}, \"\n",
    "      f\"std = {np.std(Xval):.1f}\")\n",
    "print(f\"After preprocessing, test data        : \"\n",
    "      f\"min = {np.min(Xtest):.1f}, \"\n",
    "      f\"max = {np.max(Xtest):.1f}, \"\n",
    "      f\"mean = {np.mean(Xtest):.1f}, \"\n",
    "      f\"std = {np.std(Xtest):.1f}\")\n",
    "\n",
    "# TODO: Try to apply other preprocessing, e.g. the\n",
    "#       sklearn.preprocessing.StandardScaler(), and see if the results improve."
   ]
  },
  {
   "cell_type": "code",
   "execution_count": 7,
   "metadata": {
    "id": "MMyn4Pt679bv",
    "tags": []
   },
   "outputs": [],
   "source": [
    "# Create the k-NN classifier\n",
    "\n",
    "import math\n",
    "import sklearn.neighbors\n",
    "\n",
    "import time\n",
    "\n",
    "\n",
    "if course_5DV124:\n",
    "    # TODO: Create your own nearest neighbour classifier:\n",
    "    class KNeighborsClassifier(sklearn.neighbors.KNeighborsClassifier):\n",
    "\n",
    "        def __init__(self, n_neighbors=5):\n",
    "            \"\"\" Initialize a K nearest neighbor classifier, using n nearest neighbors.\"\"\"\n",
    "            self.n_neighbors = n_neighbors\n",
    "            self.data = [] # Will store our training data\n",
    "            #self.start_time = time.time()\n",
    "            \n",
    "        def fit(self, X, y):\n",
    "            \"\"\"\n",
    "            Fits/adds the training data to the model\n",
    "            \n",
    "            Arguments:\n",
    "            X -- a (n x p) data matrix containing n rows of observations/pictures\n",
    "            y -- a (1 x n) vector containing the labels corresponding to X\n",
    "            \n",
    "            Returns: KNeighborsClassifier object with training data fitted to it\n",
    "            \"\"\"\n",
    "            # Create a list of pixel values and labels [[pic1, l1], [pic2, l2]]\n",
    "            for i, picture in enumerate(X):\n",
    "                picture_and_label = (picture, y[i])       \n",
    "                self.data.append(picture_and_label)\n",
    "            \n",
    "            # Set list to np array\n",
    "            self.data = np.array(self.data, dtype='object')\n",
    "            \n",
    "            #print(f\"Model fitted using k= {self.n_neighbors} neighbors after: {time.time()-self.start_time}s\")\n",
    "            return self\n",
    "            \n",
    "\n",
    "        def predict(self, X):\n",
    "            \"\"\"\n",
    "            Predict the class/label of given observations X\n",
    "            \n",
    "            Arguments:\n",
    "            X -- a (n x p) matrix containing n observations\n",
    "            \n",
    "            Returns: Model with updated accuracy/loss\n",
    "            OR\n",
    "            Returns: The predicted label of the observation\n",
    "            \"\"\"\n",
    "            \n",
    "            \n",
    "            predictions = []\n",
    "            for test_pic in X: # Loop over all pictures in X \n",
    "                \n",
    "                distance_list = []\n",
    "                label_list = []\n",
    "                for train_pic in self.data: # Calculate the distance to each test_pic and store in a list\n",
    "                    d = self.get_distance(test_pic, train_pic[0])\n",
    "                    distance_list.append(d)\n",
    "                    label_list.append(train_pic[1])\n",
    "\n",
    "                #print(f\"All the distances has been calculated after: {time.time()-self.start_time}s\")\n",
    "                np.asarray(distance_list)\n",
    "                np.asarray(label_list)\n",
    "                \n",
    "                indexes = np.argpartition(distance_list, self.n_neighbors)[:self.n_neighbors]\n",
    "                \n",
    "                min_labels = np.take(label_list, indexes)\n",
    "                \n",
    "                count_list = [0 for i in range(10)] # list containing number of occurances of each label\n",
    "                for label in min_labels:\n",
    "                    count_list[int(label)] += 1 # add 1 to the index of correct label (label is str)\n",
    "                \n",
    "                max_value = max(count_list) # get the highest count index\n",
    "                prediction = count_list.index(max_value) # index of the highest count = our prediction\n",
    "                \n",
    "                predictions.append(str(prediction)) # add prediction to list, need to be string for validation\n",
    "            \n",
    "            #print(f\"all predictions done\")\n",
    "            return predictions\n",
    "        \n",
    "        \n",
    "        def get_distance(self, obs_1, obs_2):\n",
    "            \"\"\"dist = 0\n",
    "            for test, train in zip(test_observation, train_observation):\n",
    "                dist += (test-train)**2\n",
    "            \n",
    "            actual_dist = math.sqrt(dist)\"\"\"\n",
    "            sum_squared = np.sum(np.square(obs_1 - obs_2))\n",
    "            distance = np.sqrt(sum_squared)\n",
    "            \n",
    "            return distance         \n",
    "            \n",
    "else:  # This is used if you take the course 5DV201\n",
    "    import sklearn.neighbors.KNeighborsClassifier as KNeighborsClassifier\n",
    "    \n",
    "    "
   ]
  },
  {
   "cell_type": "code",
   "execution_count": 9,
   "metadata": {
    "id": "PFTZLR7zu1SI",
    "tags": []
   },
   "outputs": [
    {
     "name": "stdout",
     "output_type": "stream",
     "text": [
      "Number of neighbours: k=1, validation accuracy: 0.9638333333333333, accumulated time: 4095.2526738643646\n",
      "Number of neighbours: k=2, validation accuracy: 0.9561666666666667, accumulated time: 8362.204476118088\n",
      "Number of neighbours: k=3, validation accuracy: 0.9646666666666667, accumulated time: 12650.59237742424\n",
      "Number of neighbours: k=4, validation accuracy: 0.9633333333333334, accumulated time: 17207.446527004242\n",
      "Number of neighbours: k=5, validation accuracy: 0.9611666666666666, accumulated time: 21332.512281417847\n",
      "Number of neighbours: k=6, validation accuracy: 0.9611666666666666, accumulated time: 25630.001408338547\n",
      "Number of neighbours: k=7, validation accuracy: 0.9603333333333334, accumulated time: 29324.34487438202\n",
      "Number of neighbours: k=8, validation accuracy: 0.9591666666666666, accumulated time: 32977.97143411636\n",
      "Number of neighbours: k=9, validation accuracy: 0.9595, accumulated time: 36631.75472688675\n",
      "Number of neighbours: k=10, validation accuracy: 0.9581666666666667, accumulated time: 40285.08288002014\n",
      "Grid search done!\n",
      "Accuracy list: k: 0-10: [0.9638333333333333, 0.9561666666666667, 0.9646666666666667, 0.9633333333333334, 0.9611666666666666, 0.9611666666666666, 0.9603333333333334, 0.9591666666666666, 0.9595, 0.9581666666666667]\n"
     ]
    }
   ],
   "source": [
    "# Perform grid search to find the number of neighbours, K\n",
    "\n",
    "import time\n",
    "\n",
    "start_time = time.time()\n",
    "k_max = 10  # Set the maximum number of neighbours considered\n",
    "\n",
    "errs_val = []\n",
    "# TODO: Perform a hyper-parameter search for the parameter k here. Either use\n",
    "#       the validation dataset, or optionally use cross-validation here.\n",
    "k = 1\n",
    "while k <= k_max:\n",
    "    model = KNeighborsClassifier(n_neighbors=k)\n",
    "    # TODO: The distance computations may take a long time. Play with different\n",
    "    #       amounts of data here to see what's feasible for you. Get it to work\n",
    "    #       on a small amount of data, and then run for a longer time with more\n",
    "    #       data. You may not be able to use all data with the k-NN method,\n",
    "    #       depending on the computer you have for this.\n",
    "    model.fit(Xtrain[:30000, :], ytrain[:30000])\n",
    "    err = model.score(Xval[:6000, :], yval[:6000])\n",
    "    print(f\"Number of neighbours: k={k}, validation accuracy: {err}, accumulated time: {time.time()-start_time}\")\n",
    "    errs_val.append(err)\n",
    "    k += 1\n",
    "\n",
    "print(\"Grid search done!\")\n",
    "\n",
    "print(f\"Accuracy list: k: 0-10: {errs_val}\")"
   ]
  },
  {
   "cell_type": "code",
   "execution_count": 10,
   "metadata": {
    "id": "RUzpOWkpczOi",
    "scrolled": true,
    "tags": []
   },
   "outputs": [
    {
     "data": {
      "text/plain": [
       "Text(0, 0.5, 'Validation Accuracy')"
      ]
     },
     "execution_count": 10,
     "metadata": {},
     "output_type": "execute_result"
    },
    {
     "data": {
      "image/png": "[encoded data removed]",
      "text/plain": [
       "<Figure size 576x360 with 1 Axes>"
      ]
     },
     "metadata": {
      "needs_background": "light"
     },
     "output_type": "display_data"
    }
   ],
   "source": [
    "# Plot the accuracy curve as a function of k\n",
    "\n",
    "fig = plt.figure(figsize=(8, 5))\n",
    "fig.subplots_adjust(top=0.995,\n",
    "                    bottom=0.115,\n",
    "                    left=0.005,\n",
    "                    right=0.995,\n",
    "                    wspace=0.15,\n",
    "                    hspace=0.005)\n",
    "\n",
    "ax0 = plt.subplot2grid((1, 1), (0, 0), rowspan=1, colspan=1)\n",
    "ax0.plot(range(1, len(errs_val) + 1), errs_val)\n",
    "ax0.set_title(\"Result of $k$-NN Grid-Search\", fontsize=24)\n",
    "ax0.set_xlabel(\"Number of Neighbours, $k$\", fontsize=16)\n",
    "ax0.set_ylabel(\"Validation Accuracy\", fontsize=16)"
   ]
  },
  {
   "cell_type": "code",
   "execution_count": 11,
   "metadata": {
    "id": "FO2nAY0WvzJ5"
   },
   "outputs": [
    {
     "name": "stdout",
     "output_type": "stream",
     "text": [
      "The best value was 0.9646666666666667, found using k=3.\n",
      "Final validation accuracy: 0.9707428571428571\n"
     ]
    }
   ],
   "source": [
    "# Train the final k-NN model with the best value for k\n",
    "\n",
    "k_best = np.argmax(errs_val) + 1  # Note that k=1 is at index 0.\n",
    "print(f\"The best value was {errs_val[k_best - 1]}, found using k={k_best}.\")\n",
    "\n",
    "model_knn = KNeighborsClassifier(n_neighbors=k_best)\n",
    "model_knn.fit(Xtrain[:52500, :], ytrain[:52500])\n",
    "err = model_knn.score(Xval[:8750, :], yval[:8750])\n",
    "print(f\"Final validation accuracy: {err}\")"
   ]
  },
  {
   "cell_type": "code",
   "execution_count": 12,
   "metadata": {
    "id": "vuQfK309lkf4"
   },
   "outputs": [
    {
     "name": "stdout",
     "output_type": "stream",
     "text": [
      "k-NN model training data accuracy  : 0.9845714285714285\n",
      "k-NN model validation data accuracy: 0.9707428571428571\n"
     ]
    }
   ],
   "source": [
    "# Evaluate the final model on all the data sets, including the test data. We\n",
    "# only evaluate the test data once, and as the last thing we do. If you train\n",
    "# another model after this, based on the performance on the test data, then your\n",
    "# test data is effectively a validation dataset, and you no longer have a test\n",
    "# dataset. (Or, if you keep your test data set, then your results are biased and\n",
    "# by that unreliable.)\n",
    "print(f\"k-NN model training data accuracy  : {model_knn.score(Xtrain[:8750, :], ytrain[:8750])}\")\n",
    "print(f\"k-NN model validation data accuracy: {model_knn.score(Xval, yval)}\")\n",
    "if True:  # Change this to True as the very last thing you do!\n",
    "    print(f\"k-NN model test data accuracy      : \"\n",
    "          f\"{model_knn.score(Xtest, ytest)}\")\n"
   ]
  }
 ],
 "metadata": {
  "colab": {
   "collapsed_sections": [],
   "name": "assignment_classification.ipynb",
   "provenance": []
  },
  "kernelspec": {
   "display_name": "Python 3.9.12 ('base')",
   "language": "python",
   "name": "python3"
  },
  "language_info": {
   "codemirror_mode": {
    "name": "ipython",
    "version": 3
   },
   "file_extension": ".py",
   "mimetype": "text/x-python",
   "name": "python",
   "nbconvert_exporter": "python",
   "pygments_lexer": "ipython3",
   "version": "3.9.12"
  },
  "vscode": {
   "interpreter": {
    "hash": "243815188b8911b674961832559eb19f96e2bdf7fdb42ea22b2c8fd941ebf315"
   }
  }
 },
 "nbformat": 4,
 "nbformat_minor": 4
}
